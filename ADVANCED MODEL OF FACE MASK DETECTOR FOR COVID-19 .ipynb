{
 "cells": [
  {
   "cell_type": "markdown",
   "metadata": {},
   "source": [
    "<center><h1>FACE MASK DETECTOR FOR COVID-19</h1></center>"
   ]
  },
  {
   "cell_type": "markdown",
   "metadata": {},
   "source": [
    "For complete programme open the link 👉🏻 https://github.com/rajeshrishi/advanced-model-of-face-mask-detector-for-covid-19"
   ]
  },
  {
   "cell_type": "markdown",
   "metadata": {},
   "source": [
    "# Project Overview\n",
    "\n",
    "<img src=\"https://raw.githubusercontent.com/rajeshrishi/advanced-model-of-face-mask-detector-for-covid-19/main/download.png\" layout=\"centre\">\n",
    "\n",
    "In this project we have to get a image with the face and apply it to Cascade Classifier which will give me the region of interest of the face. So, it will basically give us x(x-axis), y(y-axis), W(Width),and H(Height) parameters. Then we will get this region of interest which will be resized into 100 X 100 and then we will pass it to a preterained CNN model will will give us a output. In the output we will get P1 (probability of people with mask) and P2 (probability of people with without mask). So, CNN model will predict whether people is wearing mask or not."
   ]
  },
  {
   "cell_type": "markdown",
   "metadata": {},
   "source": [
    "# The Dataset\n",
    "\n",
    "The dataset consisted of 1376 images, 690 face images with masks and 686 without masks. We will use this data set to train our CNN model.\n",
    "<center><h1>Without Mask</h1></center>\n",
    "\n",
    "<img src=\"https://raw.githubusercontent.com/rajeshrishi/advanced-model-of-face-mask-detector-for-covid-19/main/download%20(1).jpg\" layout=\"centre\">\n",
    "\n",
    "<center><h1>With Mask</h1></center>\n",
    "\n",
    "<img src=\"https://raw.githubusercontent.com/rajeshrishi/advanced-model-of-face-mask-detector-for-covid-19/main/download%20(2).jpg\" layout=\"centre\">\n",
    "\n",
    "Before training of our CNN model we have to do data preprocessing.\n"
   ]
  },
  {
   "cell_type": "markdown",
   "metadata": {},
   "source": [
    "# Data Preprocessing\n",
    "\n",
    "<img src=\"https://raw.githubusercontent.com/rajeshrishi/advanced-model-of-face-mask-detector-for-covid-19/main/download%20(1).png\" layout=\"centre\">\n",
    "\n",
    "The data set is consisting of different colours, different sizes, different orientation. In data preprocessing we will convert the image of this data set top a gray scale image and after that we will resize it into 100 X 100 because we need a commonn size for all images before appplying it io a neural network."
   ]
  },
  {
   "cell_type": "code",
   "execution_count": 1,
   "metadata": {},
   "outputs": [
    {
     "name": "stdout",
     "output_type": "stream",
     "text": [
      "{'with mask': 0, 'without mask': 1}\n",
      "['with mask', 'without mask']\n",
      "[0, 1]\n"
     ]
    }
   ],
   "source": [
    "# importing OpenCv livrary and operating system library.\n",
    "import cv2,os\n",
    "\n",
    "# Giving the path of our data set.\n",
    "data_path='dataset'\n",
    "\n",
    "# Loading the folder name.\n",
    "categories=os.listdir(data_path)\n",
    "\n",
    "# Creating a label for the number of folders inside the dataset.\n",
    "labels=[i for i in range(len(categories))]\n",
    "# So, the resulted label will be something like an array of 0 and 1.\n",
    "\n",
    "# Creating a dictionary for label dictionary.\n",
    "label_dict=dict(zip(categories,labels))\n",
    "\n",
    "print(label_dict)\n",
    "print(categories)\n",
    "print(labels)"
   ]
  },
  {
   "cell_type": "code",
   "execution_count": 2,
   "metadata": {},
   "outputs": [],
   "source": [
    "# Declaring the size (100 X 100) of the image.\n",
    "img_size = 100\n",
    "\n",
    "# Creating two empty python list (data and target) to save the images\n",
    "# in data, labels in target.\n",
    "data = []\n",
    "target = []\n",
    "\n",
    "# Going through all the categories.\n",
    "for category in categories:\n",
    "\n",
    "    # category is basically the two folders.\n",
    "    # Creating folder paths for two folders.\n",
    "    folder_path = os.path.join(data_path, category)\n",
    "\n",
    "    # Load all the image names from the python list.\n",
    "    img_names = os.listdir(folder_path)\n",
    "\n",
    "    # Creating loop to go through each and every image in the folder.\n",
    "    for img_name in img_names:\n",
    "        img_path = os.path.join(folder_path, img_name)\n",
    "\n",
    "        # Load all the images in the image path\n",
    "        img = cv2.imread(img_path)\n",
    "\n",
    "        try:\n",
    "\n",
    "            # Converting the loaded image onto gray scale.\n",
    "            gray = cv2.cvtColor(img, cv2.COLOR_BGR2GRAY)\n",
    "\n",
    "            # Resizing the gray scale into 100x100, since we need a\n",
    "            # fixed common size for all the images in the dataset.\n",
    "            resized = cv2.resize(gray, (img_size, img_size))\n",
    "\n",
    "            # Append the resized image to data.\n",
    "            data.append(resized)\n",
    "\n",
    "            # Append the label 0 and 1 to target.\n",
    "            target.append(label_dict[category])\n",
    "\n",
    "        # We have implemented try and except because sometimes images\n",
    "        # may not be available and it will through some error.\n",
    "        except Exception as e:\n",
    "            print('Exception:', e)\n",
    "            # So, if any exception rasied, the exception will be\n",
    "            # printed here and pass to the next image."
   ]
  },
  {
   "cell_type": "code",
   "execution_count": 3,
   "metadata": {},
   "outputs": [],
   "source": [
    "import numpy as np\n",
    "\n",
    "# To normalize the images we divided it by 255 which will convert the\n",
    "# pixel range into 0 and 1.\n",
    "data=np.array(data)/255.0\n",
    "\n",
    "# Reshaping the image into a four dimensional array, since the neural \n",
    "# network needs a four dimensional array.\n",
    "data=np.reshape(data,(data.shape[0],img_size,img_size,1))\n",
    "# Here 'img_size,1' we have used because it is a gray scale image.\n",
    "\n",
    "# Converting the target into a numpy array\n",
    "target=np.array(target)\n",
    "\n",
    "from keras.utils import np_utils\n",
    "\n",
    "# Converting the numpy array into categorical representation,\n",
    "# since the last layer of # neural networks ahas two neurons with\n",
    "# mask and without mask.\n",
    "new_target=np_utils.to_categorical(target)"
   ]
  },
  {
   "cell_type": "code",
   "execution_count": 4,
   "metadata": {},
   "outputs": [],
   "source": [
    "# Save the data and the target\n",
    "np.save('data',data)\n",
    "np.save('target',new_target) \n",
    "# Data will contain the images and new_target will contain the data \n",
    "# of face with mask and without mask."
   ]
  },
  {
   "cell_type": "markdown",
   "metadata": {},
   "source": [
    "# Convolutional Neural Network Architecture\n",
    "<img src=\"https://raw.githubusercontent.com/rajeshrishi/advanced-model-of-face-mask-detector-for-covid-19/main/download%20(2).png\" layout=\"centre\">\n",
    "This CNN we will use for this model. It has two convonutional 2D neural layers. We will import 100 X 100 pixel image and 1st convonutional 2D neural layers are having 200 kernels of size 3 X 3 and 2nd convonutional 2D neural layers are having 100 kernels of size 3 X 3. Then we will flatten those convolutions. Then finally it will be connected to a dense layer of 50 neurons and at the last there will be output layer of nwo neurons for with mask and without mask."
   ]
  },
  {
   "cell_type": "code",
   "execution_count": 5,
   "metadata": {},
   "outputs": [],
   "source": [
    "#loading the save numpy arrays in the previous code\n",
    "\n",
    "import numpy as np\n",
    "\n",
    "# Loading the data and target using np.load.\n",
    "data=np.load('data.npy')\n",
    "target=np.load('target.npy')"
   ]
  },
  {
   "cell_type": "code",
   "execution_count": 6,
   "metadata": {},
   "outputs": [],
   "source": [
    "# CNN architecture.\n",
    "from keras.models import Sequential\n",
    "from keras.layers import Dense,Activation,Flatten,Dropout\n",
    "from keras.layers import Conv2D,MaxPooling2D\n",
    "from keras.callbacks import ModelCheckpoint\n",
    "\n",
    "model=Sequential()\n",
    "\n",
    "# First CNN layer of 200 kernels of size 3 X 3 followed by a Relu \n",
    "# layer and MaxPooling layer.\n",
    "model.add(Conv2D(200,(3,3),input_shape=data.shape[1:]))\n",
    "model.add(Activation('relu'))\n",
    "model.add(MaxPooling2D(pool_size=(2,2)))\n",
    "\n",
    "# First CNN layer of 100 kernels of size 3 X 3 followed by a Relu \n",
    "# layer and MaxPooling layer.\n",
    "model.add(Conv2D(100,(3,3)))\n",
    "model.add(Activation('relu'))\n",
    "model.add(MaxPooling2D(pool_size=(2,2)))\n",
    "\n",
    "# Adding the Flatten layer to stack the output convolutions from \n",
    "# second convolution layer.\n",
    "model.add(Flatten())\n",
    "# Using dropout to get rid of overfitting.\n",
    "model.add(Dropout(0.5))\n",
    "\n",
    "#Dense layer of 50 neurons\n",
    "model.add(Dense(50,activation='relu'))\n",
    "\n",
    "#The Final layer with two outputs for two categories\n",
    "model.add(Dense(2,activation='softmax'))\n",
    "\n",
    "# Compiling the model.\n",
    "model.compile(loss='categorical_crossentropy',optimizer='adam',metrics=['accuracy'])\n",
    "# Here we have used 'categorical_crossentropy', since we have two \n",
    "# categories having with mask and without mask.\n",
    "# 'metrics=['accuracy']' will print the accuracy while training."
   ]
  },
  {
   "cell_type": "code",
   "execution_count": 7,
   "metadata": {},
   "outputs": [],
   "source": [
    "# Splitting the data set into training and testing.\n",
    "from sklearn.model_selection import train_test_split\n",
    "\n",
    "train_data,test_data,train_target,test_target=train_test_split\n",
    "                                            (data,target,test_size=0.1)"
   ]
  },
  {
   "cell_type": "code",
   "execution_count": 8,
   "metadata": {
    "scrolled": true
   },
   "outputs": [
    {
     "name": "stdout",
     "output_type": "stream",
     "text": [
      "Epoch 1/40\n",
      "94/94 [==============================] - ETA: 0s - loss: 0.5406 - accuracy: 0.7173WARNING:tensorflow:From C:\\Users\\Rajesh Rishi\\anaconda3\\lib\\site-packages\\tensorflow\\python\\ops\\resource_variable_ops.py:1817: calling BaseResourceVariable.__init__ (from tensorflow.python.ops.resource_variable_ops) with constraint is deprecated and will be removed in a future version.\n",
      "Instructions for updating:\n",
      "If using Keras pass *_constraint arguments to layers.\n",
      "INFO:tensorflow:Assets written to: model-001.model\\assets\n",
      "94/94 [==============================] - 161s 2s/step - loss: 0.5406 - accuracy: 0.7173 - val_loss: 0.3743 - val_accuracy: 0.8418\n",
      "Epoch 2/40\n",
      "94/94 [==============================] - ETA: 0s - loss: 0.3250 - accuracy: 0.8665INFO:tensorflow:Assets written to: model-002.model\\assets\n",
      "94/94 [==============================] - 170s 2s/step - loss: 0.3250 - accuracy: 0.8665 - val_loss: 0.3061 - val_accuracy: 0.8606\n",
      "Epoch 3/40\n",
      "94/94 [==============================] - ETA: 0s - loss: 0.2552 - accuracy: 0.9007INFO:tensorflow:Assets written to: model-003.model\\assets\n",
      "94/94 [==============================] - 177s 2s/step - loss: 0.2552 - accuracy: 0.9007 - val_loss: 0.2157 - val_accuracy: 0.9142\n",
      "Epoch 4/40\n",
      "94/94 [==============================] - 177s 2s/step - loss: 0.2312 - accuracy: 0.9105 - val_loss: 0.3160 - val_accuracy: 0.8713\n",
      "Epoch 5/40\n",
      "94/94 [==============================] - ETA: 0s - loss: 0.1972 - accuracy: 0.9242INFO:tensorflow:Assets written to: model-005.model\\assets\n",
      "94/94 [==============================] - 174s 2s/step - loss: 0.1972 - accuracy: 0.9242 - val_loss: 0.1889 - val_accuracy: 0.9276\n",
      "Epoch 6/40\n",
      "94/94 [==============================] - 185s 2s/step - loss: 0.1527 - accuracy: 0.9410 - val_loss: 0.1892 - val_accuracy: 0.9276\n",
      "Epoch 7/40\n",
      "94/94 [==============================] - 183s 2s/step - loss: 0.1541 - accuracy: 0.9386 - val_loss: 0.2309 - val_accuracy: 0.9088\n",
      "Epoch 8/40\n",
      "94/94 [==============================] - 171s 2s/step - loss: 0.1296 - accuracy: 0.9484 - val_loss: 0.1981 - val_accuracy: 0.9316\n",
      "Epoch 9/40\n",
      "94/94 [==============================] - 177s 2s/step - loss: 0.1086 - accuracy: 0.9618 - val_loss: 0.1929 - val_accuracy: 0.9410\n",
      "Epoch 10/40\n",
      "94/94 [==============================] - ETA: 0s - loss: 0.0977 - accuracy: 0.9634INFO:tensorflow:Assets written to: model-010.model\\assets\n",
      "94/94 [==============================] - 186s 2s/step - loss: 0.0977 - accuracy: 0.9634 - val_loss: 0.1847 - val_accuracy: 0.9330\n",
      "Epoch 11/40\n",
      "94/94 [==============================] - ETA: 0s - loss: 0.0802 - accuracy: 0.9698INFO:tensorflow:Assets written to: model-011.model\\assets\n",
      "94/94 [==============================] - 183s 2s/step - loss: 0.0802 - accuracy: 0.9698 - val_loss: 0.1755 - val_accuracy: 0.9410\n",
      "Epoch 12/40\n",
      "94/94 [==============================] - 176s 2s/step - loss: 0.0532 - accuracy: 0.9782 - val_loss: 0.1907 - val_accuracy: 0.9437\n",
      "Epoch 13/40\n",
      "94/94 [==============================] - ETA: 0s - loss: 0.0685 - accuracy: 0.9722INFO:tensorflow:Assets written to: model-013.model\\assets\n",
      "94/94 [==============================] - 177s 2s/step - loss: 0.0685 - accuracy: 0.9722 - val_loss: 0.1697 - val_accuracy: 0.9343\n",
      "Epoch 14/40\n",
      "94/94 [==============================] - 181s 2s/step - loss: 0.0658 - accuracy: 0.9779 - val_loss: 0.1964 - val_accuracy: 0.9410\n",
      "Epoch 15/40\n",
      "94/94 [==============================] - 186s 2s/step - loss: 0.0733 - accuracy: 0.9748 - val_loss: 0.2054 - val_accuracy: 0.9370\n",
      "Epoch 16/40\n",
      "94/94 [==============================] - ETA: 0s - loss: 0.0452 - accuracy: 0.9839INFO:tensorflow:Assets written to: model-016.model\\assets\n",
      "94/94 [==============================] - 195s 2s/step - loss: 0.0452 - accuracy: 0.9839 - val_loss: 0.1635 - val_accuracy: 0.9303\n",
      "Epoch 17/40\n",
      "94/94 [==============================] - 195s 2s/step - loss: 0.0577 - accuracy: 0.9805 - val_loss: 0.1741 - val_accuracy: 0.9330\n",
      "Epoch 18/40\n",
      "94/94 [==============================] - 192s 2s/step - loss: 0.0303 - accuracy: 0.9903 - val_loss: 0.1776 - val_accuracy: 0.9437\n",
      "Epoch 19/40\n",
      "94/94 [==============================] - 191s 2s/step - loss: 0.0256 - accuracy: 0.9896 - val_loss: 0.2357 - val_accuracy: 0.9357\n",
      "Epoch 20/40\n",
      "94/94 [==============================] - ETA: 0s - loss: 0.0335 - accuracy: 0.9886INFO:tensorflow:Assets written to: model-020.model\\assets\n",
      "94/94 [==============================] - 201s 2s/step - loss: 0.0335 - accuracy: 0.9886 - val_loss: 0.1575 - val_accuracy: 0.9464\n",
      "Epoch 21/40\n",
      "94/94 [==============================] - 194s 2s/step - loss: 0.0306 - accuracy: 0.9889 - val_loss: 0.1895 - val_accuracy: 0.9397\n",
      "Epoch 22/40\n",
      "94/94 [==============================] - 189s 2s/step - loss: 0.0315 - accuracy: 0.9909 - val_loss: 0.2092 - val_accuracy: 0.9424\n",
      "Epoch 23/40\n",
      "94/94 [==============================] - 189s 2s/step - loss: 0.0228 - accuracy: 0.9916 - val_loss: 0.2236 - val_accuracy: 0.9437\n",
      "Epoch 24/40\n",
      "94/94 [==============================] - 179s 2s/step - loss: 0.0281 - accuracy: 0.9903 - val_loss: 0.1690 - val_accuracy: 0.9477\n",
      "Epoch 25/40\n",
      "94/94 [==============================] - 176s 2s/step - loss: 0.0224 - accuracy: 0.9920 - val_loss: 0.1754 - val_accuracy: 0.9504\n",
      "Epoch 26/40\n",
      "94/94 [==============================] - ETA: 0s - loss: 0.0318 - accuracy: 0.9879INFO:tensorflow:Assets written to: model-026.model\\assets\n",
      "94/94 [==============================] - 180s 2s/step - loss: 0.0318 - accuracy: 0.9879 - val_loss: 0.1513 - val_accuracy: 0.9437\n",
      "Epoch 27/40\n",
      "94/94 [==============================] - 177s 2s/step - loss: 0.0154 - accuracy: 0.9966 - val_loss: 0.1879 - val_accuracy: 0.9477\n",
      "Epoch 28/40\n",
      "94/94 [==============================] - 179s 2s/step - loss: 0.0145 - accuracy: 0.9950 - val_loss: 0.1907 - val_accuracy: 0.9491\n",
      "Epoch 29/40\n",
      "94/94 [==============================] - 177s 2s/step - loss: 0.0120 - accuracy: 0.9973 - val_loss: 0.2142 - val_accuracy: 0.9464\n",
      "Epoch 30/40\n",
      "94/94 [==============================] - 177s 2s/step - loss: 0.0155 - accuracy: 0.9950 - val_loss: 0.1740 - val_accuracy: 0.9517\n",
      "Epoch 31/40\n",
      "94/94 [==============================] - 177s 2s/step - loss: 0.0153 - accuracy: 0.9953 - val_loss: 0.1611 - val_accuracy: 0.9504\n",
      "Epoch 32/40\n",
      "94/94 [==============================] - 190s 2s/step - loss: 0.0146 - accuracy: 0.9953 - val_loss: 0.1848 - val_accuracy: 0.9504\n",
      "Epoch 33/40\n",
      "94/94 [==============================] - 185s 2s/step - loss: 0.0116 - accuracy: 0.9953 - val_loss: 0.1913 - val_accuracy: 0.9544\n",
      "Epoch 34/40\n",
      "94/94 [==============================] - 177s 2s/step - loss: 0.0165 - accuracy: 0.9916 - val_loss: 0.1850 - val_accuracy: 0.9450\n",
      "Epoch 35/40\n",
      "94/94 [==============================] - 186s 2s/step - loss: 0.0184 - accuracy: 0.9933 - val_loss: 0.1865 - val_accuracy: 0.9477\n",
      "Epoch 36/40\n",
      "94/94 [==============================] - 185s 2s/step - loss: 0.0169 - accuracy: 0.9940 - val_loss: 0.1962 - val_accuracy: 0.9464\n",
      "Epoch 37/40\n",
      "94/94 [==============================] - 184s 2s/step - loss: 0.0088 - accuracy: 0.9960 - val_loss: 0.2122 - val_accuracy: 0.9477\n",
      "Epoch 38/40\n",
      "94/94 [==============================] - 180s 2s/step - loss: 0.0100 - accuracy: 0.9956 - val_loss: 0.1995 - val_accuracy: 0.9491\n",
      "Epoch 39/40\n",
      "94/94 [==============================] - 177s 2s/step - loss: 0.0093 - accuracy: 0.9966 - val_loss: 0.2397 - val_accuracy: 0.9450\n",
      "Epoch 40/40\n",
      "94/94 [==============================] - 184s 2s/step - loss: 0.0173 - accuracy: 0.9946 - val_loss: 0.2409 - val_accuracy: 0.9424\n"
     ]
    }
   ],
   "source": [
    "# Create a model checkpoint\n",
    "checkpoint = ModelCheckpoint('model-{epoch:03d}.model',monitor='val_loss',\n",
    "                                 verbose=0,save_best_only=True,mode='auto')\n",
    "# Here 'monitor='val_loss'' we are monitoring the validation loss.\n",
    "# Here 'model-{epoch:03d}.model' we are saving the model for each epoch.\n",
    "# Here 'save_best_only=True' we are saving the best model.\n",
    "# If the validation loss gets increase after epoch, it will not be saved.\n",
    "\n",
    "# Training the model using model.fit.\n",
    "history=model.fit(train_data,train_target,epochs=40,callbacks=[checkpoint],\n",
    "                                                     validation_split=0.2)\n",
    "# 'validation_split=0.2' means we are using 20 % of validation data.\n",
    "# 'callbacks=[checkpoint]' means after each epoch we callbacks\n",
    "# to the checkpoint."
   ]
  },
  {
   "cell_type": "markdown",
   "metadata": {},
   "source": [
    "Here we can see model is trained for 40 epochs and the 26th epoch is better because the validation loss is less and accuracy is more."
   ]
  },
  {
   "cell_type": "code",
   "execution_count": 9,
   "metadata": {},
   "outputs": [
    {
     "data": {
      "image/png": "[encoded data removed]",
      "text/plain": [
       "<Figure size 432x288 with 1 Axes>"
      ]
     },
     "metadata": {
      "needs_background": "light"
     },
     "output_type": "display_data"
    }
   ],
   "source": [
    "# Plotting the graph for loss\n",
    "\n",
    "from matplotlib import pyplot as plt\n",
    "\n",
    "plt.plot(history.history['loss'],'r',label='training loss')\n",
    "plt.plot(history.history['val_loss'],label='validation loss')\n",
    "plt.xlabel('# epochs')\n",
    "plt.ylabel('loss')\n",
    "plt.legend()\n",
    "plt.show()"
   ]
  },
  {
   "cell_type": "code",
   "execution_count": 10,
   "metadata": {},
   "outputs": [
    {
     "data": {
      "image/png": "[encoded data removed]",
      "text/plain": [
       "<Figure size 432x288 with 1 Axes>"
      ]
     },
     "metadata": {
      "needs_background": "light"
     },
     "output_type": "display_data"
    }
   ],
   "source": [
    "# Plotting the graph for Accuracy \n",
    "\n",
    "plt.plot(history.history['accuracy'],'r',label='training accuracy')\n",
    "plt.plot(history.history['val_accuracy'],label='validation accuracy')\n",
    "plt.xlabel('# epochs')\n",
    "plt.ylabel('loss')\n",
    "plt.legend()\n",
    "plt.show()"
   ]
  },
  {
   "cell_type": "code",
   "execution_count": 11,
   "metadata": {},
   "outputs": [
    {
     "name": "stdout",
     "output_type": "stream",
     "text": [
      "13/13 [==============================] - 6s 424ms/step - loss: 0.4465 - accuracy: 0.9277\n",
      "[0.44649893045425415, 0.9277108311653137]\n"
     ]
    }
   ],
   "source": [
    "# Evaluating the model\n",
    "print(model.evaluate(test_data,test_target))"
   ]
  },
  {
   "cell_type": "markdown",
   "metadata": {},
   "source": [
    "Accuracy is 92.7 % ."
   ]
  },
  {
   "cell_type": "markdown",
   "metadata": {},
   "source": [
    "# Detecting Faces with and without masks\n",
    "<img src=\"https://raw.githubusercontent.com/rajeshrishi/advanced-model-of-face-mask-detector-for-covid-19/main/download%20(3).png\" layout=\"centre\">"
   ]
  },
  {
   "cell_type": "code",
   "execution_count": 12,
   "metadata": {},
   "outputs": [],
   "source": [
    "from keras.models import load_model\n",
    "import cv2\n",
    "import numpy as np"
   ]
  },
  {
   "cell_type": "code",
   "execution_count": 13,
   "metadata": {},
   "outputs": [],
   "source": [
    "# Loading the model 'model-026.model' as it is the best model.\n",
    "model = load_model('model-026.model')\n",
    "\n",
    "# Loading Cascade Classifier\n",
    "face_clsfr = cv2.CascadeClassifier('haarcascade_frontalface_default.xml')\n",
    "\n",
    "# Using our webcam for videocapture\n",
    "source = cv2.VideoCapture(0)\n",
    "\n",
    "# Creating dictionary to label the bounding rectangle as\n",
    "# mask or without mask during detection.\n",
    "labels_dict = {0: 'MASK', 1: 'NO MASK'}\n",
    "\n",
    "# Drawing bounding rectangle.\n",
    "color_dict = {0: (0, 255, 0), 1: (0, 0, 255)}\n",
    "# This code'(0, 255, 0)' will draw bounding rectangle with green \n",
    "# color for with mask.\n",
    "# This code'(0, 0, 255)' will draw bounding rectangle with red \n",
    "# color for without mask."
   ]
  },
  {
   "cell_type": "code",
   "execution_count": 14,
   "metadata": {},
   "outputs": [],
   "source": [
    "# Creating an infinite loop.\n",
    "while(True):\n",
    "\n",
    "    # Reading frame by frame the camera and get this frame as a image.\n",
    "    ret,img=source.read()\n",
    "    \n",
    "    # Converting the image into gray.\n",
    "    gray=cv2.cvtColor(img,cv2.COLOR_BGR2GRAY)\n",
    "    \n",
    "    # Detecting faces.\n",
    "    faces=face_clsfr.detectMultiScale(gray,1.3,5)  \n",
    "\n",
    "    for x,y,w,h in faces:\n",
    "    \n",
    "        # Cropping the region of interest for each and every \n",
    "        # gray image. \n",
    "        face_img=gray[y:y+w,x:x+w]\n",
    "        \n",
    "        # Resizing the cropped image into 100x100, since we need a\n",
    "        # fixed common size for all the images in the dataset.\n",
    "        resized=cv2.resize(face_img,(100,100))\n",
    "        \n",
    "        # To normalize the images we divided it by 255 which will \n",
    "        # convert the pixel range into 0 and 1.\n",
    "        normalized=resized/255.0\n",
    "        \n",
    "        # Reshaping the image into a four dimensional array, since the \n",
    "        # neural network needs a four dimensional array.\n",
    "        reshaped=np.reshape(normalized,(1,100,100,1))\n",
    "        \n",
    "        # Passing the reshaped image into the model for prediction.\n",
    "        result=model.predict(reshaped)\n",
    "        # The result will give the probability of P1 and P2.\n",
    "        # Result will have one row and two columns.\n",
    "        \n",
    "        # Using argmax to get the column number\n",
    "        label=np.argmax(result,axis=1)[0]\n",
    "      \n",
    "        # Creating bounding rectangle in the face detector.\n",
    "        cv2.rectangle(img,(x,y),(x+w,y+h),color_dict[label],2)\n",
    "        \n",
    "        # Creating filled rectangle on the top of the bounding \n",
    "        # rectangle.\n",
    "        cv2.rectangle(img,(x,y-40),(x+w,y),color_dict[label],-1)\n",
    "        \n",
    "        # Using 'putText' command to show label.\n",
    "        cv2.putText(img, labels_dict[label], \n",
    "                (x, y-10),cv2.FONT_HERSHEY_SIMPLEX,0.8,(255,255,255),2)\n",
    "        \n",
    "    # Showing the live image in one frame.   \n",
    "    cv2.imshow('LIVE',img)\n",
    "    \n",
    "    # Waiting for one milli second. \n",
    "    key=cv2.waitKey(1)\n",
    "    \n",
    "    # If we press 'Esc' key, the loop will break.\n",
    "    if(key==27):\n",
    "        break\n",
    "\n",
    "# Destroying the detecting window after pressing 'Esc' key.\n",
    "cv2.destroyAllWindows()\n",
    "source.release()"
   ]
  },
  {
   "cell_type": "markdown",
   "metadata": {},
   "source": [
    "<img src=\"https://raw.githubusercontent.com/rajeshrishi/advanced-model-of-face-mask-detector-for-covid-19/main/download%20(4).png\" layout=\"centre\">"
   ]
  },
  {
   "cell_type": "markdown",
   "metadata": {},
   "source": [
    "OUTPUT :- \n",
    "\n",
    "<img src=\"https://raw.githubusercontent.com/rajeshrishi/advanced-model-of-face-mask-detector-for-covid-19/main/OUTPUT%20(2).jpg\" layout=\"centre\">\n",
    "\n",
    "<img src=\"https://raw.githubusercontent.com/rajeshrishi/advanced-model-of-face-mask-detector-for-covid-19/main/OUTPUT%20(1).jpg\" layout=\"centre\">"
   ]
  }
 ],
 "metadata": {
  "kernelspec": {
   "display_name": "Python 3",
   "language": "python",
   "name": "python3"
  },
  "language_info": {
   "codemirror_mode": {
    "name": "ipython",
    "version": 3
   },
   "file_extension": ".py",
   "mimetype": "text/x-python",
   "name": "python",
   "nbconvert_exporter": "python",
   "pygments_lexer": "ipython3",
   "version": "3.7.6"
  }
 },
 "nbformat": 4,
 "nbformat_minor": 2
}
